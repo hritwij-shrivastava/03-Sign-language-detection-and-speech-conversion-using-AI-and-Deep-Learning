{
 "cells": [
  {
   "cell_type": "code",
   "execution_count": null,
   "metadata": {
    "collapsed": true
   },
   "outputs": [],
   "source": [
    "import os\n",
    "files=os.listdir(\"/kaggle/input/asl-alphabet/asl_alphabet_train/asl_alphabet_train\")\n",
    "print(files)"
   ]
  },
  {
   "cell_type": "code",
   "execution_count": null,
   "metadata": {
    "collapsed": true
   },
   "outputs": [],
   "source": [
    "files=sorted(files)\n",
    "print(files)"
   ]
  },
  {
   "cell_type": "code",
   "execution_count": null,
   "metadata": {
    "_cell_guid": "a5f1f752-8365-40a8-a849-8ab2ab34db63",
    "_kg_hide-output": true,
    "_uuid": "a334a3525c03f23a55668f55db390abca81eab20",
    "collapsed": true
   },
   "outputs": [],
   "source": [
    "# Imports for Deep Learning\n",
    "from keras.layers import Conv2D, Dense, Dropout, Flatten\n",
    "from keras.models import Sequential\n",
    "from keras.preprocessing.image import ImageDataGenerator\n",
    "\n",
    "# ensure consistency across runs\n",
    "import numpy as np\n",
    "import tensorflow as tf\n",
    "\n",
    "\n",
    "# Imports to view data\n",
    "import cv2\n",
    "from glob import glob\n",
    "from matplotlib import pyplot as plt\n",
    "from numpy import floor\n",
    "import random\n"
   ]
  },
  {
   "cell_type": "code",
   "execution_count": null,
   "metadata": {
    "_cell_guid": "79c7e3d0-c299-4dcb-8224-4455121ee9b0",
    "_uuid": "d629ff2d2480ee46fbb7e2d37f6b5fab8052498a",
    "collapsed": true
   },
   "outputs": [],
   "source": [
    "data_dir = \"/kaggle/input/asl-alphabet/asl_alphabet_train/asl_alphabet_train\"\n",
    "target_size = (64, 64)\n",
    "target_dims = (64, 64, 3) # add channel for RGB\n",
    "n_classes = 29\n",
    "val_frac = 0.1\n",
    "batch_size = 64\n",
    "\n",
    "data_augmentor = ImageDataGenerator(samplewise_center=True, \n",
    "                                    samplewise_std_normalization=True, \n",
    "                                    validation_split=val_frac)\n",
    "\n",
    "train_generator = data_augmentor.flow_from_directory(data_dir, target_size=target_size, batch_size=batch_size, shuffle=True, subset=\"training\")\n",
    "val_generator   = data_augmentor.flow_from_directory(data_dir, target_size=target_size, batch_size=batch_size, subset=\"validation\")"
   ]
  },
  {
   "cell_type": "code",
   "execution_count": null,
   "metadata": {
    "_cell_guid": "435128bc-b3cb-410e-85a7-3ef43748b3f8",
    "_uuid": "dc201ab00d5790a06511a86563920f90a3f8f2d5",
    "collapsed": true
   },
   "outputs": [],
   "source": [
    "my_model = Sequential()\n",
    "my_model.add(Conv2D(64, kernel_size=4, strides=1, activation='relu', input_shape=target_dims))\n",
    "my_model.add(Conv2D(64, kernel_size=4, strides=2, activation='relu'))\n",
    "my_model.add(Dropout(0.5))\n",
    "my_model.add(Conv2D(128, kernel_size=4, strides=1, activation='relu'))\n",
    "my_model.add(Conv2D(128, kernel_size=4, strides=2, activation='relu'))\n",
    "my_model.add(Dropout(0.5))\n",
    "my_model.add(Conv2D(256, kernel_size=4, strides=1, activation='relu'))\n",
    "my_model.add(Conv2D(256, kernel_size=4, strides=2, activation='relu'))\n",
    "my_model.add(Flatten())\n",
    "my_model.add(Dropout(0.5))\n",
    "my_model.add(Dense(512, activation='relu'))\n",
    "my_model.add(Dense(n_classes, activation='softmax'))\n",
    "\n",
    "my_model.compile(optimizer='adam', loss='categorical_crossentropy', metrics=[\"accuracy\"])"
   ]
  },
  {
   "cell_type": "code",
   "execution_count": null,
   "metadata": {
    "collapsed": true
   },
   "outputs": [],
   "source": [
    "print(val_generator.class_indices)"
   ]
  },
  {
   "cell_type": "code",
   "execution_count": null,
   "metadata": {
    "collapsed": true
   },
   "outputs": [],
   "source": [
    "my_model.fit_generator(train_generator, epochs=10, validation_data=val_generator)"
   ]
  },
  {
   "cell_type": "code",
   "execution_count": null,
   "metadata": {
    "collapsed": true
   },
   "outputs": [],
   "source": [
    "my_model.save('gpu_model_epoch=10.model')"
   ]
  },
  {
   "cell_type": "code",
   "execution_count": null,
   "metadata": {
    "collapsed": true
   },
   "outputs": [],
   "source": [
    "my_model.save('gpu_model_epoch=10.h5')"
   ]
  },
  {
   "cell_type": "markdown",
   "metadata": {},
   "source": [
    "# **Model testing (Run only Below Code)**"
   ]
  },
  {
   "cell_type": "code",
   "execution_count": null,
   "metadata": {
    "collapsed": true
   },
   "outputs": [],
   "source": [
    "from keras.models import load_model\n",
    "from keras.models import load_model\n",
    "from keras.preprocessing import image\n",
    "from matplotlib import pyplot as plt\n",
    "import numpy as np\n",
    "import cv2"
   ]
  },
  {
   "cell_type": "code",
   "execution_count": null,
   "metadata": {
    "collapsed": true
   },
   "outputs": [],
   "source": [
    "my_model= load_model('/kaggle/input/mobile1/gpu_model_epoch10.h5', compile=False)"
   ]
  },
  {
   "cell_type": "code",
   "execution_count": null,
   "metadata": {
    "collapsed": true
   },
   "outputs": [],
   "source": [
    "test_image= image.load_img('/kaggle/input/mobile/C.jpeg',target_size = (64, 64))\n",
    "test_image= image.img_to_array(test_image)\n",
    "test_image= np.expand_dims(test_image,axis =0)\n",
    "result=my_model.predict(test_image)\n",
    "\n",
    "img=cv2.imread('/kaggle/input/mobile/C.jpeg')\n",
    "plt.imshow(img)\n",
    "\n",
    "def keras_predict(model, image):\n",
    "    data = np.asarray( image, dtype=\"int32\" )\n",
    "    pred_probab = model.predict(data)[0]\n",
    "    pred_class = list(pred_probab).index(max(pred_probab))\n",
    "    return max(pred_probab), pred_class\n",
    "\n",
    "pred_probab, pred_class = keras_predict(my_model,test_image)\n",
    "#print(pred_class, pred_probab)\n",
    "\n",
    "CATEGORIES = [\"A\", \"B\",\"C\",\"D\",\"E\",\"F\",\"G\",\"H\",\"I\",\"J\",\"K\",\"L\",\"M\",\"N\",\"O\",\"P\",\"Q\",\"R\",\"S\",\"T\",\"U\",\"V\",\"W\",\"X\",\"Y\",\"Z\",\"del\",\"nothing\",\"space\"]\n",
    "print(CATEGORIES[pred_class])"
   ]
  },
  {
   "cell_type": "code",
   "execution_count": null,
   "metadata": {
    "collapsed": true
   },
   "outputs": [],
   "source": []
  }
 ],
 "metadata": {
  "kernelspec": {
   "display_name": "Python 3",
   "language": "python",
   "name": "python3"
  },
  "language_info": {
   "codemirror_mode": {
    "name": "ipython",
    "version": 3
   },
   "file_extension": ".py",
   "mimetype": "text/x-python",
   "name": "python",
   "nbconvert_exporter": "python",
   "pygments_lexer": "ipython3",
   "version": "3.7.6"
  }
 },
 "nbformat": 4,
 "nbformat_minor": 4
}
